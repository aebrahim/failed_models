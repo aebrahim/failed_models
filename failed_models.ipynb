{
 "cells": [
  {
   "cell_type": "code",
   "execution_count": 1,
   "metadata": {
    "collapsed": false
   },
   "outputs": [],
   "source": [
    "import os\n",
    "import warnings\n",
    "import re\n",
    "from itertools import chain\n",
    "\n",
    "import scipy\n",
    "import scipy.io\n",
    "import pandas\n",
    "\n",
    "import cobra\n",
    "\n",
    "try:\n",
    "    from read_excel import read_excel\n",
    "except ImportError:\n",
    "    !wget https://raw.githubusercontent.com/opencobra/m_model_collection/master/read_excel.py\n",
    "    from read_excel import read_excel"
   ]
  },
  {
   "cell_type": "code",
   "execution_count": 2,
   "metadata": {
    "collapsed": true
   },
   "outputs": [],
   "source": [
    "def open_exchanges(model, amount=10):\n",
    "    for reaction in model.reactions:\n",
    "        if len(reaction.metabolites) == 1:\n",
    "            # Ensure we are not creating any new sinks\n",
    "            if reaction.metabolites.values()[0] > 0:\n",
    "                reaction.upper_bound = max(reaction.upper_bound, amount)\n",
    "            else:\n",
    "                reaction.lower_bound = min(reaction.lower_bound, -amount)\n",
    "\n",
    "def add_exchanges(model, extracellular_suffix=\"[e]\", uptake_amount=10):\n",
    "    for metabolite in model.metabolites:\n",
    "        if str(metabolite).endswith(extracellular_suffix):\n",
    "            if len(metabolite.reactions) == 0:\n",
    "                print \"no reactions for \" + metabolite.id\n",
    "                continue\n",
    "            if min(len(i.metabolites) for i in metabolite.reactions) > 1:\n",
    "                EX_reaction = cobra.Reaction(\"EX_\" + metabolite.id)\n",
    "                EX_reaction.add_metabolites({metabolite: 1})\n",
    "                m.add_reaction(EX_reaction)\n",
    "                EX_reaction.upper_bound = uptake_amount\n",
    "                EX_reaction.lower_bound = -uptake_amount"
   ]
  },
  {
   "cell_type": "code",
   "execution_count": 3,
   "metadata": {
    "collapsed": true
   },
   "outputs": [],
   "source": [
    "models = cobra.DictList()"
   ]
  },
  {
   "cell_type": "code",
   "execution_count": 4,
   "metadata": {
    "collapsed": false
   },
   "outputs": [],
   "source": [
    "m = read_excel(\"iMH551.xls\", rxn_sheet_name=\"GPR Annotation\", rxn_sheet_header=4, rxn_id_key=\"auto\", rxn_str_key=\"REACTION\",\n",
    "           rxn_name_key=\"ENZYME\", rxn_skip_rows=[625, 782, 787], verbose=False)\n",
    "add_exchanges(m, \"(extracellular)\")\n",
    "models.append(m)"
   ]
  },
  {
   "cell_type": "code",
   "execution_count": 5,
   "metadata": {
    "collapsed": false
   },
   "outputs": [],
   "source": [
    "m = read_excel(\"iLL672.xls\",\n",
    "               rxn_id_key=\"auto\", met_sheet_name=\"Appendix 3 iLL672 metabolites\",\\\n",
    "               rxn_str_key=\"REACTION\", verbose=False,\n",
    "               rxn_sheet_name='Appendix 3 iLL672 reactions')\n",
    "m.reactions[-1].objective_coefficient = 1\n",
    "add_exchanges(m, \"xt\")\n",
    "models.append(m)"
   ]
  },
  {
   "cell_type": "code",
   "execution_count": 6,
   "metadata": {
    "collapsed": false
   },
   "outputs": [],
   "source": [
    "m = read_excel(\"iOA584.xls\", verbose=False)\n",
    "add_exchanges(m, \"xt\")\n",
    "models.append(m)"
   ]
  },
  {
   "cell_type": "code",
   "execution_count": 7,
   "metadata": {
    "collapsed": false
   },
   "outputs": [],
   "source": [
    "m = read_excel(\"iBT721.xls\", rxn_sheet_name=\"reaction info\", rxn_skip_rows=[745], verbose=False)\n",
    "m.reactions[-2].objective_coefficient = 1\n",
    "models.append(m)"
   ]
  },
  {
   "cell_type": "code",
   "execution_count": 8,
   "metadata": {
    "collapsed": true
   },
   "outputs": [],
   "source": [
    "m = read_excel(\"iRS605.xls\",\n",
    "               met_id_key=\"METABOLITE ABBREVIATION\", met_name_key=\"METABOLITE NAME\", verbose=False)\n",
    "add_exchanges(m)\n",
    "models.append(m)"
   ]
  },
  {
   "cell_type": "code",
   "execution_count": 9,
   "metadata": {
    "collapsed": false
   },
   "outputs": [],
   "source": [
    "m = read_excel(\"iGT196.xls\", verbose=False)\n",
    "add_exchanges(m)\n",
    "models.append(m)"
   ]
  },
  {
   "cell_type": "code",
   "execution_count": 10,
   "metadata": {
    "collapsed": false
   },
   "outputs": [],
   "source": [
    "m = read_excel(\"iGB555.xls\", rxn_sheet_header=5,\n",
    "               rxn_id_key=\"auto\", rxn_str_key=\"Reaction\",\n",
    "               verbose=False, rxn_reversible_arrow=\"=\", rxn_fwd_arrow=\">\", \n",
    "               rxn_sheet_name=\"simplified model\")\n",
    "models.append(m)"
   ]
  },
  {
   "cell_type": "code",
   "execution_count": 11,
   "metadata": {
    "collapsed": false
   },
   "outputs": [],
   "source": [
    "m = read_excel(\"iKK446.xls\", rxn_sheet_name=\"List of Reactions\", rxn_sheet_header=1,\n",
    "               rxn_id_key=\"Gene name\", rxn_str_key=\"Reactions\", rxn_gpr_key=\"ORF\", verbose=False)\n",
    "add_exchanges(m, \"xt\")\n",
    "models.append(m)"
   ]
  },
  {
   "cell_type": "code",
   "execution_count": 12,
   "metadata": {
    "collapsed": false
   },
   "outputs": [
    {
     "name": "stdout",
     "output_type": "stream",
     "text": [
      "no reactions for ACET[e]\n",
      "no reactions for OXYGEN-MOLECULE[e]\n",
      "no reactions for SO3[e]\n",
      "no reactions for AMMONIA[e]\n"
     ]
    }
   ],
   "source": [
    "m = read_excel(\"iYS277.xls\", rxn_id_key=\"auto\", rxn_str_key=\"Unnamed: 3\", rxn_gpr_key=\"gene name\", verbose=False)\n",
    "for met in m.metabolites:\n",
    "    if met.id.startswith(\"[e]\"):\n",
    "        met.id = met.id[3:] + \"[e]\"\n",
    "m.repair()\n",
    "add_exchanges(m)"
   ]
  },
  {
   "cell_type": "code",
   "execution_count": 13,
   "metadata": {
    "collapsed": false
   },
   "outputs": [],
   "source": [
    "for i in os.listdir(\".\"):\n",
    "    if not i.endswith(\".xml\"):\n",
    "        continue\n",
    "    model = cobra.io.read_legacy_sbml(i)\n",
    "    model.id = i[:-4]\n",
    "    models.append(model)"
   ]
  },
  {
   "cell_type": "markdown",
   "metadata": {},
   "source": [
    "## Autodetect objectives"
   ]
  },
  {
   "cell_type": "code",
   "execution_count": 14,
   "metadata": {
    "collapsed": true
   },
   "outputs": [],
   "source": [
    "biomass_re = re.compile(\"biomass\", re.IGNORECASE)\n",
    "curated_objectives = {\"iOA584\": \"rxn1387\", \"iIN800\": \"GROWTH\", \"iGT196\": \"VGRO\", \"iMH551\": \"R0227\"}"
   ]
  },
  {
   "cell_type": "code",
   "execution_count": 15,
   "metadata": {
    "collapsed": false
   },
   "outputs": [
    {
     "name": "stdout",
     "output_type": "stream",
     "text": [
      "autodetected objective reaction 'FT_Biomx_DM' for model 'iRS605'\n",
      "autodetected biomass metabolite 'BIOMASS' for model 'iGB555'\n",
      "autodetected biomass metabolite 'BIOMASS' for model 'iKK446'\n",
      "autodetected biomass metabolite 'BIOMASS' for model 'iHD666'\n",
      "autodetected biomass metabolite 'Biomass_c' for model 'PlasmoNet'\n",
      "no objective found for iMH805\n"
     ]
    },
    {
     "name": "stderr",
     "output_type": "stream",
     "text": [
      "cobra/core/Model.py:316 \u001b[1;31mUserWarning\u001b[0m: Deprecated. Use the objective setter (Model.objective = ...) instead\n"
     ]
    }
   ],
   "source": [
    "for m in models:\n",
    "    if len(m.reactions.query(lambda x: x > 0, \"objective_coefficient\")):\n",
    "        continue\n",
    "    if m.id in curated_objectives:\n",
    "        m.change_objective(curated_objectives[m.id])\n",
    "        continue\n",
    "    \n",
    "    # look for reactions with \"biomass\" in the id or name\n",
    "    possible_objectives = m.reactions.query(biomass_re)\n",
    "    if len(possible_objectives) == 0:\n",
    "        possible_objectives = m.reactions.query(biomass_re, \"name\")\n",
    "    \n",
    "    # In some cases, a biomass \"metabolite\" is produced, whose production\n",
    "    # should be the objective function.\n",
    "    possible_biomass_metabolites = m.metabolites.query(biomass_re)\n",
    "    if len(possible_biomass_metabolites) == 0:\n",
    "        possible_biomass_metabolites = m.metabolites.query(biomass_re, \"name\")\n",
    "\n",
    "    if len(possible_biomass_metabolites) > 0:\n",
    "        biomass_met = possible_biomass_metabolites[0]\n",
    "        r = cobra.Reaction(\"added_biomass_sink\")\n",
    "        r.objective_coefficient = 1\n",
    "        r.add_metabolites({biomass_met: -1})\n",
    "        m.add_reaction(r)\n",
    "        print (\"autodetected biomass metabolite '%s' for model '%s'\" %\n",
    "              (biomass_met.id, m.id))\n",
    "\n",
    "    elif len(possible_objectives) > 0:\n",
    "        print(\"autodetected objective reaction '%s' for model '%s'\" %\n",
    "              (possible_objectives[0].id, m.id))\n",
    "        m.change_objective(possible_objectives[0])\n",
    "\n",
    "    \n",
    "    else:\n",
    "        print(\"no objective found for \" + m.id)\n",
    "        models.remove(m.id)\n",
    "\n",
    "# Ensure the biomass objective flux is unconstrained\n",
    "for reaction in m.reactions.query(lambda x: x > 0, \"objective_coefficient\"):\n",
    "    reaction.lower_bound = min(reaction.lower_bound, 0)\n",
    "    reaction.upper_bound = max(reaction.upper_bound, 1000)"
   ]
  },
  {
   "cell_type": "markdown",
   "metadata": {},
   "source": [
    "## Solve"
   ]
  },
  {
   "cell_type": "code",
   "execution_count": 16,
   "metadata": {
    "collapsed": false
   },
   "outputs": [
    {
     "data": {
      "text/html": [
       "<div>\n",
       "<table border=\"1\" class=\"dataframe\">\n",
       "  <thead>\n",
       "    <tr style=\"text-align: right;\">\n",
       "      <th></th>\n",
       "      <th>mosek</th>\n",
       "      <th>esolver</th>\n",
       "      <th>cglpk</th>\n",
       "      <th>cplex</th>\n",
       "      <th>gurobi</th>\n",
       "      <th>cglpk_exact</th>\n",
       "      <th>coin</th>\n",
       "      <th>glpk</th>\n",
       "    </tr>\n",
       "  </thead>\n",
       "  <tbody>\n",
       "    <tr>\n",
       "      <th>PlasmoNet</th>\n",
       "      <td>0.000000e+00</td>\n",
       "      <td>0</td>\n",
       "      <td>0.000000e+00</td>\n",
       "      <td>0.000000e+00</td>\n",
       "      <td>-0</td>\n",
       "      <td>0</td>\n",
       "      <td>-1.140600e-13</td>\n",
       "      <td>0.000000e+00</td>\n",
       "    </tr>\n",
       "    <tr>\n",
       "      <th>iBT721</th>\n",
       "      <td>0.000000e+00</td>\n",
       "      <td>0</td>\n",
       "      <td>0.000000e+00</td>\n",
       "      <td>0.000000e+00</td>\n",
       "      <td>-0</td>\n",
       "      <td>0</td>\n",
       "      <td>0.000000e+00</td>\n",
       "      <td>0.000000e+00</td>\n",
       "    </tr>\n",
       "    <tr>\n",
       "      <th>iGB555</th>\n",
       "      <td>0.000000e+00</td>\n",
       "      <td>0</td>\n",
       "      <td>0.000000e+00</td>\n",
       "      <td>0.000000e+00</td>\n",
       "      <td>-0</td>\n",
       "      <td>0</td>\n",
       "      <td>0.000000e+00</td>\n",
       "      <td>0.000000e+00</td>\n",
       "    </tr>\n",
       "    <tr>\n",
       "      <th>iGT196</th>\n",
       "      <td>0.000000e+00</td>\n",
       "      <td>0</td>\n",
       "      <td>0.000000e+00</td>\n",
       "      <td>0.000000e+00</td>\n",
       "      <td>-0</td>\n",
       "      <td>0</td>\n",
       "      <td>7.506453e-08</td>\n",
       "      <td>0.000000e+00</td>\n",
       "    </tr>\n",
       "    <tr>\n",
       "      <th>iHD666</th>\n",
       "      <td>1.894781e-10</td>\n",
       "      <td>0</td>\n",
       "      <td>1.790139e-10</td>\n",
       "      <td>0.000000e+00</td>\n",
       "      <td>-0</td>\n",
       "      <td>0</td>\n",
       "      <td>0.000000e+00</td>\n",
       "      <td>0.000000e+00</td>\n",
       "    </tr>\n",
       "    <tr>\n",
       "      <th>iIN800</th>\n",
       "      <td>0.000000e+00</td>\n",
       "      <td>0</td>\n",
       "      <td>4.144976e-14</td>\n",
       "      <td>1.136868e-13</td>\n",
       "      <td>-0</td>\n",
       "      <td>0</td>\n",
       "      <td>2.116824e-11</td>\n",
       "      <td>3.889961e-15</td>\n",
       "    </tr>\n",
       "    <tr>\n",
       "      <th>iKK446</th>\n",
       "      <td>0.000000e+00</td>\n",
       "      <td>0</td>\n",
       "      <td>0.000000e+00</td>\n",
       "      <td>0.000000e+00</td>\n",
       "      <td>-0</td>\n",
       "      <td>0</td>\n",
       "      <td>5.872481e-10</td>\n",
       "      <td>6.705318e-29</td>\n",
       "    </tr>\n",
       "    <tr>\n",
       "      <th>iLL672</th>\n",
       "      <td>0.000000e+00</td>\n",
       "      <td>0</td>\n",
       "      <td>0.000000e+00</td>\n",
       "      <td>0.000000e+00</td>\n",
       "      <td>-0</td>\n",
       "      <td>0</td>\n",
       "      <td>0.000000e+00</td>\n",
       "      <td>0.000000e+00</td>\n",
       "    </tr>\n",
       "    <tr>\n",
       "      <th>iMH551</th>\n",
       "      <td>0.000000e+00</td>\n",
       "      <td>0</td>\n",
       "      <td>0.000000e+00</td>\n",
       "      <td>0.000000e+00</td>\n",
       "      <td>-0</td>\n",
       "      <td>0</td>\n",
       "      <td>0.000000e+00</td>\n",
       "      <td>0.000000e+00</td>\n",
       "    </tr>\n",
       "    <tr>\n",
       "      <th>iOA584</th>\n",
       "      <td>0.000000e+00</td>\n",
       "      <td>0</td>\n",
       "      <td>0.000000e+00</td>\n",
       "      <td>0.000000e+00</td>\n",
       "      <td>-0</td>\n",
       "      <td>0</td>\n",
       "      <td>5.036499e-09</td>\n",
       "      <td>0.000000e+00</td>\n",
       "    </tr>\n",
       "    <tr>\n",
       "      <th>iRS605</th>\n",
       "      <td>0.000000e+00</td>\n",
       "      <td>0</td>\n",
       "      <td>0.000000e+00</td>\n",
       "      <td>0.000000e+00</td>\n",
       "      <td>-0</td>\n",
       "      <td>0</td>\n",
       "      <td>0.000000e+00</td>\n",
       "      <td>0.000000e+00</td>\n",
       "    </tr>\n",
       "  </tbody>\n",
       "</table>\n",
       "</div>"
      ],
      "text/plain": [
       "                  mosek  esolver         cglpk         cplex  gurobi  \\\n",
       "PlasmoNet  0.000000e+00        0  0.000000e+00  0.000000e+00      -0   \n",
       "iBT721     0.000000e+00        0  0.000000e+00  0.000000e+00      -0   \n",
       "iGB555     0.000000e+00        0  0.000000e+00  0.000000e+00      -0   \n",
       "iGT196     0.000000e+00        0  0.000000e+00  0.000000e+00      -0   \n",
       "iHD666     1.894781e-10        0  1.790139e-10  0.000000e+00      -0   \n",
       "iIN800     0.000000e+00        0  4.144976e-14  1.136868e-13      -0   \n",
       "iKK446     0.000000e+00        0  0.000000e+00  0.000000e+00      -0   \n",
       "iLL672     0.000000e+00        0  0.000000e+00  0.000000e+00      -0   \n",
       "iMH551     0.000000e+00        0  0.000000e+00  0.000000e+00      -0   \n",
       "iOA584     0.000000e+00        0  0.000000e+00  0.000000e+00      -0   \n",
       "iRS605     0.000000e+00        0  0.000000e+00  0.000000e+00      -0   \n",
       "\n",
       "           cglpk_exact          coin          glpk  \n",
       "PlasmoNet            0 -1.140600e-13  0.000000e+00  \n",
       "iBT721               0  0.000000e+00  0.000000e+00  \n",
       "iGB555               0  0.000000e+00  0.000000e+00  \n",
       "iGT196               0  7.506453e-08  0.000000e+00  \n",
       "iHD666               0  0.000000e+00  0.000000e+00  \n",
       "iIN800               0  2.116824e-11  3.889961e-15  \n",
       "iKK446               0  5.872481e-10  6.705318e-29  \n",
       "iLL672               0  0.000000e+00  0.000000e+00  \n",
       "iMH551               0  0.000000e+00  0.000000e+00  \n",
       "iOA584               0  5.036499e-09  0.000000e+00  \n",
       "iRS605               0  0.000000e+00  0.000000e+00  "
      ]
     },
     "execution_count": 16,
     "metadata": {},
     "output_type": "execute_result"
    }
   ],
   "source": [
    "results = {}\n",
    "for m in models:\n",
    "    # solve this model with all the solvers\n",
    "    solutions = {solver: m.optimize(solver=solver)\n",
    "                 for solver in cobra.solvers.solver_dict}\n",
    "    solutions[\"cglpk_exact\"] = m.optimize(solver=\"cglpk\", exact=True)\n",
    "    # store the objective value and errors\n",
    "    results[m.id] = {k: v.f for k, v in solutions.iteritems()}\n",
    "\n",
    "results = pandas.DataFrame.from_dict(results, orient='index')\n",
    "results"
   ]
  },
  {
   "cell_type": "code",
   "execution_count": 17,
   "metadata": {
    "collapsed": false
   },
   "outputs": [
    {
     "data": {
      "text/plain": [
       "7.5064531298271003e-08"
      ]
     },
     "execution_count": 17,
     "metadata": {},
     "output_type": "execute_result"
    }
   ],
   "source": [
    "abs(results).max().max()"
   ]
  }
 ],
 "metadata": {
  "kernelspec": {
   "display_name": "Python 2",
   "language": "python",
   "name": "python2"
  },
  "language_info": {
   "codemirror_mode": {
    "name": "ipython",
    "version": 2
   },
   "file_extension": ".py",
   "mimetype": "text/x-python",
   "name": "python",
   "nbconvert_exporter": "python",
   "pygments_lexer": "ipython2",
   "version": "2.7.6"
  }
 },
 "nbformat": 4,
 "nbformat_minor": 0
}
